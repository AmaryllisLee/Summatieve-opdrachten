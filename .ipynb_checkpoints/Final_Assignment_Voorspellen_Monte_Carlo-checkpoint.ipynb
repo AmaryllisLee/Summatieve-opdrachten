{
 "cells": [
  {
   "cell_type": "markdown",
   "metadata": {},
   "source": [
    "### Opdracht \n",
    "We gaan proberen om een voorspelling te doen over de uitslag van een (verkleinde) voetbalpool om te zien wie er waarschijnlijk gaat winnen. We gaan deze voorspelling doen aan de hand van de  Random Number Generator en het principe vanMonte Carlo Simulatie."
   ]
  },
  {
   "cell_type": "markdown",
   "metadata": {},
   "source": [
    "Maak een Monte Carlo Simulatie die meerdere keren (duizenden) de competitie speelt met gebruik van deze tabel van kansen. Hoe vaker je een competitie speelt, hoe nauwkeuriger je voorspelling wordt. Houd bij hoeveel punten elk team scoort in de competitie (3 punten voor winst, 1 punt voor gelijk, 0 voor verlies), en maak een overzicht (ranking) van de teams.\n",
    "\n",
    "<img src = \"tabelMC.PNG\">"
   ]
  },
  {
   "cell_type": "code",
   "execution_count": 1,
   "metadata": {},
   "outputs": [],
   "source": [
    "import random"
   ]
  },
  {
   "cell_type": "markdown",
   "metadata": {},
   "source": [
    "Definieer een team die ene naam bevat en een lijst van hun mogelijke kansen om te winnen."
   ]
  },
  {
   "cell_type": "code",
   "execution_count": 2,
   "metadata": {},
   "outputs": [],
   "source": [
    "clubs = {\n",
    "    \"ajax\":{\"feyenoord\":[65,17,18], \"psv\":[54,21,25], \"fcutrecht\":[74,14,12], \"willemII\":[78,13,9]},\n",
    "    \"feyenoord\": {\"ajax\": [30,21,49], \"psv\":[37,24,39], \"fcutrecht\":[51,22,27], \"willemII\":[60,21,19]},\n",
    "    \"psv\": {\"ajax\": [39,22,39], \"feyenoord\":[54,22,24], \"fcutrecht\":[62,20,18], \"willemII\": [62,22,16]},\n",
    "    \"fcutrecht\": {\"ajax\":[25,14,61], \"feyenoord\": [37,23,40], \"psv\":[29,24,47], \"willemII\": [53,23,25]},\n",
    "    \"willemII\": {\"ajax\": [17, 18, 65], \"feyenoord\":[20,26,54], \"psv\":[23,24,53], \"fcutrecht\":[37,25,38]}\n",
    "}"
   ]
  },
  {
   "cell_type": "markdown",
   "metadata": {},
   "source": [
    "Definieer competities waarbij elk team thuis speelt en speelt met de rest van de teams (uitploegen)."
   ]
  },
  {
   "cell_type": "code",
   "execution_count": null,
   "metadata": {},
   "outputs": [],
   "source": []
  },
  {
   "cell_type": "code",
   "execution_count": 3,
   "metadata": {},
   "outputs": [],
   "source": [
    "def random_number_generator(n):\n",
    "    \"Generating a random number using linear congruential method \"\n",
    "    seed = 20\n",
    "    a = 3\n",
    "    c = 3\n",
    "    m = 100\n",
    "    \n",
    "    x=[seed] # list containing n random generated numbers \n",
    "    for i in range(1,n+1):\n",
    "        if i == 1:\n",
    "            x_next = (a * seed + c) % m\n",
    "            x.append(x_next)\n",
    "        else:\n",
    "            x_next = (a * x[i-1] + c) % m\n",
    "            x.append(x_next)\n",
    "    return x\n"
   ]
  },
  {
   "cell_type": "code",
   "execution_count": 4,
   "metadata": {},
   "outputs": [],
   "source": [
    "def match(team_lst, rn):\n",
    "    \n",
    "    #vb ayax - feyenoord [65, 17, 18]\n",
    "    if  rn <= team_lst[2]: # rn< 18 \n",
    "        return 0, 3\n",
    "    elif team_lst[2] < rn <= (team_lst[2] + team_lst [1]): # rn zit tussen 18 en  35 (18+17)\n",
    "        return 1,1\n",
    "    elif  rn >=(team_lst[1]+ team_lst[2]): # rn zit tussen 35 en 100 (35 + 65)\n",
    "        return 3, 0\n",
    "    "
   ]
  },
  {
   "cell_type": "code",
   "execution_count": 5,
   "metadata": {
    "scrolled": false
   },
   "outputs": [],
   "source": [
    "#list containing the scores of each team\n",
    "\n",
    "\n",
    "def competitions(hteam, rng):\n",
    "    scores_teams = {\n",
    "    \"ajax\" : 0,\n",
    "    \"feyenoord\" : 0,\n",
    "    \"psv\" : 0,\n",
    "    \"fcutrecht\" : 0,\n",
    "    \"willemII\" : 0\n",
    "}\n",
    "    counter = 0\n",
    "    oponents = clubs[hteam]\n",
    "    for ateam in oponents:\n",
    "        rn = random.choice(rng)\n",
    "        ht_point, at_point = match(oponents.get(ateam), rn)# pak de lijst van kansen voor de away team van de ene home team\n",
    "#             print(ht_point)\n",
    "#             print(at_point)\n",
    "#             print(\"Home/{}: {}, Away:{}:{}\".format(hteam, ht_point, ateam, at_point))\n",
    "        scores_teams[hteam] += ht_point\n",
    "        scores_teams[ateam] += at_point\n",
    "        \n",
    "        counter +=1\n",
    "#     print(scores_teams)\n",
    "#     print(\"\\n\")\n",
    "    return scores_teams\n",
    "\n"
   ]
  },
  {
   "cell_type": "code",
   "execution_count": 6,
   "metadata": {},
   "outputs": [],
   "source": [
    "rng  = random_number_generator(100) # TODO: generate different random numbers per competitions."
   ]
  },
  {
   "cell_type": "code",
   "execution_count": 7,
   "metadata": {},
   "outputs": [],
   "source": [
    "def sort_dict(dictionary):\n",
    "    # Bron: https://stackoverflow.com/questions/613183/how-do-i-sort-a-dictionary-by-value\n",
    "    sorted_dict = {k: v for k, v in sorted(dictionary.items(), key=lambda item: item[1], reverse= True)}\n",
    "    return sortedict\n"
   ]
  },
  {
   "cell_type": "code",
   "execution_count": 8,
   "metadata": {},
   "outputs": [],
   "source": [
    "def add_rank(hteam, rank_dict, prob_pos_clubs):\n",
    "    \"add ranking into dictionary prob_pos_clubs\"\n",
    "    pos = 1\n",
    "    for i in rank_dict.keys():\n",
    "        prob_pos_clubs[i][pos] += 1\n",
    "        pos +=1"
   ]
  },
  {
   "cell_type": "code",
   "execution_count": 9,
   "metadata": {},
   "outputs": [],
   "source": [
    "def championships(prob_pos_clubs):\n",
    "    \"Each teams plays in a competition as hometeam\"  \n",
    "\n",
    "    for i in prob_pos_clubs.keys():\n",
    "        scores_comp = competitions(i, rng)\n",
    "        rank_comp   = {k: v for k, v in sorted(scores_comp.items(), key=lambda item: item[1], reverse= True)}\n",
    "#         print(\"Ranking competion , htmeam : {}\".format(i))\n",
    "#         print(rank_comp)\n",
    "        add_rank(i, rank_comp, prob_pos_clubs) # TODO functie aanpassen \n"
   ]
  },
  {
   "cell_type": "code",
   "execution_count": 10,
   "metadata": {},
   "outputs": [],
   "source": [
    "prob_pos_clubs = {\n",
    "        \"ajax\":{1:0, 2:0, 3:0, 4:0, 5:0},\n",
    "        \"feyenoord\": {1:0, 2:0, 3:0, 4:0, 5:0},\n",
    "        \"psv\":{1:0, 2:0, 3:0, 4:0, 5:0},\n",
    "        \"fcutrecht\":{1:0, 2:0, 3:0, 4:0, 5:0},\n",
    "        \"willemII\":{1:0, 2:0, 3:0, 4:0, 5:0}\n",
    "    }\n",
    "\n",
    "def MC(n, prob_pos_clubs):\n",
    "    counter = 0\n",
    "    while counter  <= n:\n",
    "        championships(prob_pos_clubs)\n",
    "        counter +=1\n",
    "    return prob_pos_clubs"
   ]
  },
  {
   "cell_type": "code",
   "execution_count": 37,
   "metadata": {},
   "outputs": [
    {
     "data": {
      "text/plain": [
       "{'ajax': {1: 45, 2: 31, 3: 16, 4: 16, 5: 2},\n",
       " 'feyenoord': {1: 21, 2: 38, 3: 20, 4: 23, 5: 8},\n",
       " 'psv': {1: 22, 2: 23, 3: 39, 4: 15, 5: 11},\n",
       " 'fcutrecht': {1: 15, 2: 12, 3: 18, 4: 39, 5: 26},\n",
       " 'willemII': {1: 7, 2: 6, 3: 17, 4: 17, 5: 63}}"
      ]
     },
     "execution_count": 37,
     "metadata": {},
     "output_type": "execute_result"
    }
   ],
   "source": [
    "res = MC(1, prob_pos_clubs)\n",
    "#convert postions values to probability \n",
    "for i in res:\n",
    "    for j in res[i].values():\n",
    "        j = (j/20)*100\n",
    "res"
   ]
  },
  {
   "cell_type": "markdown",
   "metadata": {},
   "source": [
    " Convert dictionaries of probability into a dataframe "
   ]
  },
  {
   "cell_type": "code",
   "execution_count": 38,
   "metadata": {},
   "outputs": [
    {
     "data": {
      "text/html": [
       "<div>\n",
       "<style scoped>\n",
       "    .dataframe tbody tr th:only-of-type {\n",
       "        vertical-align: middle;\n",
       "    }\n",
       "\n",
       "    .dataframe tbody tr th {\n",
       "        vertical-align: top;\n",
       "    }\n",
       "\n",
       "    .dataframe thead th {\n",
       "        text-align: right;\n",
       "    }\n",
       "</style>\n",
       "<table border=\"1\" class=\"dataframe\">\n",
       "  <thead>\n",
       "    <tr style=\"text-align: right;\">\n",
       "      <th></th>\n",
       "      <th>ajax</th>\n",
       "      <th>feyenoord</th>\n",
       "      <th>psv</th>\n",
       "      <th>fcutrecht</th>\n",
       "      <th>willemII</th>\n",
       "    </tr>\n",
       "  </thead>\n",
       "  <tbody>\n",
       "    <tr>\n",
       "      <th>1</th>\n",
       "      <td>45</td>\n",
       "      <td>21</td>\n",
       "      <td>22</td>\n",
       "      <td>15</td>\n",
       "      <td>7</td>\n",
       "    </tr>\n",
       "    <tr>\n",
       "      <th>2</th>\n",
       "      <td>31</td>\n",
       "      <td>38</td>\n",
       "      <td>23</td>\n",
       "      <td>12</td>\n",
       "      <td>6</td>\n",
       "    </tr>\n",
       "    <tr>\n",
       "      <th>3</th>\n",
       "      <td>16</td>\n",
       "      <td>20</td>\n",
       "      <td>39</td>\n",
       "      <td>18</td>\n",
       "      <td>17</td>\n",
       "    </tr>\n",
       "    <tr>\n",
       "      <th>4</th>\n",
       "      <td>16</td>\n",
       "      <td>23</td>\n",
       "      <td>15</td>\n",
       "      <td>39</td>\n",
       "      <td>17</td>\n",
       "    </tr>\n",
       "    <tr>\n",
       "      <th>5</th>\n",
       "      <td>2</td>\n",
       "      <td>8</td>\n",
       "      <td>11</td>\n",
       "      <td>26</td>\n",
       "      <td>63</td>\n",
       "    </tr>\n",
       "  </tbody>\n",
       "</table>\n",
       "</div>"
      ],
      "text/plain": [
       "   ajax  feyenoord  psv  fcutrecht  willemII\n",
       "1    45         21   22         15         7\n",
       "2    31         38   23         12         6\n",
       "3    16         20   39         18        17\n",
       "4    16         23   15         39        17\n",
       "5     2          8   11         26        63"
      ]
     },
     "execution_count": 38,
     "metadata": {},
     "output_type": "execute_result"
    }
   ],
   "source": [
    "import pandas as pd\n",
    "df = pd.DataFrame(res)\n",
    "df"
   ]
  },
  {
   "cell_type": "code",
   "execution_count": null,
   "metadata": {},
   "outputs": [],
   "source": []
  }
 ],
 "metadata": {
  "kernelspec": {
   "display_name": "Python 3",
   "language": "python",
   "name": "python3"
  },
  "language_info": {
   "codemirror_mode": {
    "name": "ipython",
    "version": 3
   },
   "file_extension": ".py",
   "mimetype": "text/x-python",
   "name": "python",
   "nbconvert_exporter": "python",
   "pygments_lexer": "ipython3",
   "version": "3.7.3"
  }
 },
 "nbformat": 4,
 "nbformat_minor": 2
}
