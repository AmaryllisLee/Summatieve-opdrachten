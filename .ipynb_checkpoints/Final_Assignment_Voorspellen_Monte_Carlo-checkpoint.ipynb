{
 "cells": [
  {
   "cell_type": "markdown",
   "metadata": {},
   "source": [
    "### Opdracht \n",
    "We gaan proberen om een voorspelling te doen over de uitslag van een (verkleinde) voetbalpool om te zien wie er waarschijnlijk gaat winnen. We gaan deze voorspelling doen aan de hand van de  Random Number Generator en het principe vanMonte Carlo Simulatie."
   ]
  },
  {
   "cell_type": "markdown",
   "metadata": {},
   "source": [
    "Maak een Monte Carlo Simulatie die meerdere keren (duizenden) de competitie speelt met gebruik van deze tabel van kansen. Hoe vaker je een competitie speelt, hoe nauwkeuriger je voorspelling wordt. Houd bij hoeveel punten elk team scoort in de competitie (3 punten voor winst, 1 punt voor gelijk, 0 voor verlies), en maak een overzicht (ranking) van de teams.\n",
    "\n",
    "<img src = \"tabelMC.PNG\">"
   ]
  },
  {
   "cell_type": "code",
   "execution_count": 44,
   "metadata": {},
   "outputs": [],
   "source": [
    "import random\n",
    "import pandas as pd\n",
    "import numpy as np"
   ]
  },
  {
   "cell_type": "markdown",
   "metadata": {},
   "source": [
    "Zet bovenstaande tabel om in een dictionary"
   ]
  },
  {
   "cell_type": "code",
   "execution_count": 2,
   "metadata": {},
   "outputs": [],
   "source": [
    "clubs = {\n",
    "    \"ajax\":{\"feyenoord\":[65,17,18], \"psv\":[54,21,25], \"fcutrecht\":[74,14,12], \"willemII\":[78,13,9]},\n",
    "    \"feyenoord\": {\"ajax\": [30,21,49], \"psv\":[37,24,39], \"fcutrecht\":[51,22,27], \"willemII\":[60,21,19]},\n",
    "    \"psv\": {\"ajax\": [39,22,39], \"feyenoord\":[54,22,24], \"fcutrecht\":[62,20,18], \"willemII\": [62,22,16]},\n",
    "    \"fcutrecht\": {\"ajax\":[25,14,61], \"feyenoord\": [37,23,40], \"psv\":[29,24,47], \"willemII\": [53,23,25]},\n",
    "    \"willemII\": {\"ajax\": [17, 18, 65], \"feyenoord\":[20,26,54], \"psv\":[23,24,53], \"fcutrecht\":[37,25,38]}\n",
    "}"
   ]
  },
  {
   "cell_type": "markdown",
   "metadata": {},
   "source": [
    "Een functie maken waar we willekeurige getallen genereren op basis van de Linear congruential method.\n",
    "De formule voor de Linear Congruential method luid als volgt: <br>\n",
    "**X n+1 = (a * Xn + c) mod m**\n",
    "waar\n",
    "* a= multiplier\n",
    "* c = increment\n",
    "* Xn als n = 0 => seed (starting value)\n",
    "* m = modulus\n"
   ]
  },
  {
   "cell_type": "code",
   "execution_count": 3,
   "metadata": {},
   "outputs": [],
   "source": [
    "def random_number_generator(n):\n",
    "    \"Generating a random number using linear congruential method \"\n",
    "    seed = 20\n",
    "    a = 3\n",
    "    c = 3\n",
    "    m = 100\n",
    "    \n",
    "    x=[seed] # list containing n random generated numbers \n",
    "    for i in range(1,n+1):\n",
    "        if i == 1:\n",
    "            x_next = (a * seed + c) % m\n",
    "            x.append(x_next)\n",
    "        else:\n",
    "            x_next = (a * x[i-1] + c) % m\n",
    "            x.append(x_next)\n",
    "    return x\n"
   ]
  },
  {
   "cell_type": "markdown",
   "metadata": {},
   "source": [
    "Definieer een spel tussen 2 teams. <br>\n",
    "De scores luidt als volgt:\n",
    "* 3 punten voor winst\n",
    "* 1 punt voor gelijk spel\n",
    "* 0 punten voor verlies"
   ]
  },
  {
   "cell_type": "code",
   "execution_count": 4,
   "metadata": {},
   "outputs": [],
   "source": [
    "def match(team_lst, rn):\n",
    "    \n",
    "    #vb ayax - feyenoord [65, 17, 18]\n",
    "    if  rn <= team_lst[2]: # rn< 18 , dan verlies thuisspelende partij\n",
    "        return 0, 3\n",
    "    elif team_lst[2] < rn <= (team_lst[2] + team_lst [1]): # rn zit tussen 18 en  35 (18+17), dan is er een gelijkspel\n",
    "        return 1,1\n",
    "    elif  rn >=(team_lst[1]+ team_lst[2]): # rn zit tussen 35 en 100 (35 + 65), dan win de thuisspelende partij\n",
    "        return 3, 0\n",
    "    "
   ]
  },
  {
   "cell_type": "markdown",
   "metadata": {},
   "source": [
    "Definieer competities waarbij een team thuis speelt met de rest van de teams (uitploegen)."
   ]
  },
  {
   "cell_type": "code",
   "execution_count": 5,
   "metadata": {
    "scrolled": false
   },
   "outputs": [],
   "source": [
    "#lijst met de scores van elke team\n",
    "def competitions(hteam, rng):\n",
    "    scores_teams = {\n",
    "    \"ajax\" : 0,\n",
    "    \"feyenoord\" : 0,\n",
    "    \"psv\" : 0,\n",
    "    \"fcutrecht\" : 0,\n",
    "    \"willemII\" : 0\n",
    "}\n",
    "    #counter = 0\n",
    "    oponents = clubs[hteam] # pakt de dictionary met de andere teams en de lijst van de win-/gelijkspel-/verlieskans met de teams\n",
    "    for ateam in oponents:\n",
    "        rn = random.choice(rng) # random getal uit de lijst van de random gegenereerde getallen \n",
    "        ht_point, at_point = match(oponents.get(ateam), rn)# pak de lijst van kansen voor de away team van de ene home team\n",
    "        scores_teams[hteam] += ht_point # voeg aantal punten toe voor thuisspelende partij\n",
    "        scores_teams[ateam] += at_point # voeg aantal punten toe voor uitspelende partij\n",
    "        \n",
    "        #counter +=1\n",
    "    return scores_teams\n",
    "\n"
   ]
  },
  {
   "cell_type": "code",
   "execution_count": 6,
   "metadata": {},
   "outputs": [
    {
     "name": "stdout",
     "output_type": "stream",
     "text": [
      "[20, 63, 92, 79, 40, 23, 72, 19, 60, 83, 52, 59, 80, 43, 32, 99, 0, 3, 12, 39]\n"
     ]
    }
   ],
   "source": [
    "rng  = random_number_generator(1000)\n",
    "print(rng[:20], sep=\"\") # print de eerste 20 getallen "
   ]
  },
  {
   "cell_type": "markdown",
   "metadata": {},
   "source": [
    "Er wordt een championship functie gemaakt, waar alle teams thuis speelt."
   ]
  },
  {
   "cell_type": "code",
   "execution_count": 7,
   "metadata": {},
   "outputs": [],
   "source": [
    "def championships(prob_pos_clubs):\n",
    "    \"Each teams plays in a competition as hometeam\"  \n",
    "\n",
    "    for i in prob_pos_clubs.keys():\n",
    "        scores_comp = competitions(i, rng)\n",
    "        rank_comp   = {k: v for k, v in sorted(scores_comp.items(), key=lambda item: item[1], reverse= True)}# dictionary sorteren \n",
    "        # voeg ranking toe in dictionary prob_pos_clubs\n",
    "        pos = 1\n",
    "        for i in rank_comp.keys():\n",
    "            prob_pos_clubs[i][pos] += 1\n",
    "            pos +=1\n",
    "# Bron : Dictionary sorteren "
   ]
  },
  {
   "cell_type": "markdown",
   "metadata": {},
   "source": [
    "Creeer Monte carlo functie die de functie championships n keren runt en de resultaten opslaan in prob_pos_clubs"
   ]
  },
  {
   "cell_type": "code",
   "execution_count": 38,
   "metadata": {},
   "outputs": [],
   "source": [
    "def MC(n):\n",
    "    # aantal \n",
    "    prob_pos_clubs = {\n",
    "        \"ajax\":{1:0, 2:0, 3:0, 4:0, 5:0},\n",
    "        \"feyenoord\": {1:0, 2:0, 3:0, 4:0, 5:0},\n",
    "        \"psv\":{1:0, 2:0, 3:0, 4:0, 5:0},\n",
    "        \"fcutrecht\":{1:0, 2:0, 3:0, 4:0, 5:0},\n",
    "        \"willemII\":{1:0, 2:0, 3:0, 4:0, 5:0}\n",
    "    }\n",
    "    \n",
    "    counter = 0\n",
    "    while counter  < n:\n",
    "        championships(prob_pos_clubs)\n",
    "        counter +=1\n",
    "    return prob_pos_clubs"
   ]
  },
  {
   "cell_type": "code",
   "execution_count": 42,
   "metadata": {},
   "outputs": [
    {
     "data": {
      "text/plain": [
       "{'ajax': {1: 4, 2: 3, 3: 1, 4: 1, 5: 1},\n",
       " 'feyenoord': {1: 2, 2: 4, 3: 3, 4: 0, 5: 1},\n",
       " 'psv': {1: 2, 2: 1, 3: 4, 4: 2, 5: 1},\n",
       " 'fcutrecht': {1: 1, 2: 1, 3: 2, 4: 5, 5: 1},\n",
       " 'willemII': {1: 1, 2: 1, 3: 0, 4: 2, 5: 6}}"
      ]
     },
     "execution_count": 42,
     "metadata": {},
     "output_type": "execute_result"
    }
   ],
   "source": [
    "n = 2\n",
    "res = MC(n)\n",
    "\n",
    "res"
   ]
  },
  {
   "cell_type": "markdown",
   "metadata": {},
   "source": [
    " Zet dictionaries om in een dataframe "
   ]
  },
  {
   "cell_type": "code",
   "execution_count": 49,
   "metadata": {},
   "outputs": [
    {
     "name": "stdout",
     "output_type": "stream",
     "text": [
      "Amount of competition that each team has had to get to that place.\n"
     ]
    },
    {
     "data": {
      "text/html": [
       "<div>\n",
       "<style scoped>\n",
       "    .dataframe tbody tr th:only-of-type {\n",
       "        vertical-align: middle;\n",
       "    }\n",
       "\n",
       "    .dataframe tbody tr th {\n",
       "        vertical-align: top;\n",
       "    }\n",
       "\n",
       "    .dataframe thead th {\n",
       "        text-align: right;\n",
       "    }\n",
       "</style>\n",
       "<table border=\"1\" class=\"dataframe\">\n",
       "  <thead>\n",
       "    <tr style=\"text-align: right;\">\n",
       "      <th></th>\n",
       "      <th>ajax</th>\n",
       "      <th>feyenoord</th>\n",
       "      <th>psv</th>\n",
       "      <th>fcutrecht</th>\n",
       "      <th>willemII</th>\n",
       "    </tr>\n",
       "  </thead>\n",
       "  <tbody>\n",
       "    <tr>\n",
       "      <th>1</th>\n",
       "      <td>4</td>\n",
       "      <td>2</td>\n",
       "      <td>2</td>\n",
       "      <td>1</td>\n",
       "      <td>1</td>\n",
       "    </tr>\n",
       "    <tr>\n",
       "      <th>2</th>\n",
       "      <td>3</td>\n",
       "      <td>4</td>\n",
       "      <td>1</td>\n",
       "      <td>1</td>\n",
       "      <td>1</td>\n",
       "    </tr>\n",
       "    <tr>\n",
       "      <th>3</th>\n",
       "      <td>1</td>\n",
       "      <td>3</td>\n",
       "      <td>4</td>\n",
       "      <td>2</td>\n",
       "      <td>0</td>\n",
       "    </tr>\n",
       "    <tr>\n",
       "      <th>4</th>\n",
       "      <td>1</td>\n",
       "      <td>0</td>\n",
       "      <td>2</td>\n",
       "      <td>5</td>\n",
       "      <td>2</td>\n",
       "    </tr>\n",
       "    <tr>\n",
       "      <th>5</th>\n",
       "      <td>1</td>\n",
       "      <td>1</td>\n",
       "      <td>1</td>\n",
       "      <td>1</td>\n",
       "      <td>6</td>\n",
       "    </tr>\n",
       "  </tbody>\n",
       "</table>\n",
       "</div>"
      ],
      "text/plain": [
       "   ajax  feyenoord  psv  fcutrecht  willemII\n",
       "1     4          2    2          1         1\n",
       "2     3          4    1          1         1\n",
       "3     1          3    4          2         0\n",
       "4     1          0    2          5         2\n",
       "5     1          1    1          1         6"
      ]
     },
     "metadata": {},
     "output_type": "display_data"
    },
    {
     "name": "stdout",
     "output_type": "stream",
     "text": [
      "Probability of each team getting to that place in a competition.\n"
     ]
    },
    {
     "data": {
      "text/html": [
       "<div>\n",
       "<style scoped>\n",
       "    .dataframe tbody tr th:only-of-type {\n",
       "        vertical-align: middle;\n",
       "    }\n",
       "\n",
       "    .dataframe tbody tr th {\n",
       "        vertical-align: top;\n",
       "    }\n",
       "\n",
       "    .dataframe thead th {\n",
       "        text-align: right;\n",
       "    }\n",
       "</style>\n",
       "<table border=\"1\" class=\"dataframe\">\n",
       "  <thead>\n",
       "    <tr style=\"text-align: right;\">\n",
       "      <th></th>\n",
       "      <th>ajax</th>\n",
       "      <th>feyenoord</th>\n",
       "      <th>psv</th>\n",
       "      <th>fcutrecht</th>\n",
       "      <th>willemII</th>\n",
       "    </tr>\n",
       "  </thead>\n",
       "  <tbody>\n",
       "    <tr>\n",
       "      <th>1</th>\n",
       "      <td>8.0</td>\n",
       "      <td>4.0</td>\n",
       "      <td>4.0</td>\n",
       "      <td>2.0</td>\n",
       "      <td>2.0</td>\n",
       "    </tr>\n",
       "    <tr>\n",
       "      <th>2</th>\n",
       "      <td>6.0</td>\n",
       "      <td>8.0</td>\n",
       "      <td>2.0</td>\n",
       "      <td>2.0</td>\n",
       "      <td>2.0</td>\n",
       "    </tr>\n",
       "    <tr>\n",
       "      <th>3</th>\n",
       "      <td>2.0</td>\n",
       "      <td>6.0</td>\n",
       "      <td>8.0</td>\n",
       "      <td>4.0</td>\n",
       "      <td>0.0</td>\n",
       "    </tr>\n",
       "    <tr>\n",
       "      <th>4</th>\n",
       "      <td>2.0</td>\n",
       "      <td>0.0</td>\n",
       "      <td>4.0</td>\n",
       "      <td>10.0</td>\n",
       "      <td>4.0</td>\n",
       "    </tr>\n",
       "    <tr>\n",
       "      <th>5</th>\n",
       "      <td>2.0</td>\n",
       "      <td>2.0</td>\n",
       "      <td>2.0</td>\n",
       "      <td>2.0</td>\n",
       "      <td>12.0</td>\n",
       "    </tr>\n",
       "  </tbody>\n",
       "</table>\n",
       "</div>"
      ],
      "text/plain": [
       "   ajax  feyenoord  psv  fcutrecht  willemII\n",
       "1   8.0        4.0  4.0        2.0       2.0\n",
       "2   6.0        8.0  2.0        2.0       2.0\n",
       "3   2.0        6.0  8.0        4.0       0.0\n",
       "4   2.0        0.0  4.0       10.0       4.0\n",
       "5   2.0        2.0  2.0        2.0      12.0"
      ]
     },
     "metadata": {},
     "output_type": "display_data"
    }
   ],
   "source": [
    "df = pd.DataFrame(res)\n",
    "def calculate_probability(x):\n",
    "    return (x / (n*25))*100\n",
    "df2 = df.apply(np.vectorize(calculate_probability))\n",
    "print(\"Amount of competition that each team has had to get to that place.\")\n",
    "display(df)\n",
    "print(\"Probability of each team getting to that place in a competition.\")\n",
    "display(df2)"
   ]
  },
  {
   "cell_type": "markdown",
   "metadata": {},
   "source": [
    "Each champiosnhips has 5 competitions with 5 places(1st place, 2nd place etc), thus each championships has 25 places."
   ]
  }
 ],
 "metadata": {
  "kernelspec": {
   "display_name": "Python 3",
   "language": "python",
   "name": "python3"
  },
  "language_info": {
   "codemirror_mode": {
    "name": "ipython",
    "version": 3
   },
   "file_extension": ".py",
   "mimetype": "text/x-python",
   "name": "python",
   "nbconvert_exporter": "python",
   "pygments_lexer": "ipython3",
   "version": "3.7.3"
  }
 },
 "nbformat": 4,
 "nbformat_minor": 2
}
