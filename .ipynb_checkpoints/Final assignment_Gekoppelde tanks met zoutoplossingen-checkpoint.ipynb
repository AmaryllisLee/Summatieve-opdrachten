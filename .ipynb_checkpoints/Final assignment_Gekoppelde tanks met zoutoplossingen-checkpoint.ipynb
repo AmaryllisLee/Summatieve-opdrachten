{
 "cells": [
  {
   "cell_type": "markdown",
   "metadata": {},
   "source": [
    "# Gekoppelde tanks met zoutoplossing"
   ]
  },
  {
   "cell_type": "markdown",
   "metadata": {},
   "source": [
    "De Differentiaal vergelijkingen voor de zoutconcentratie van tank A ( x ) en B (y) zijn: <br>\n",
    "De differentiaal vergelijking voor tank A:\n",
    "$$\\frac{dx}{dt} = 0.01y - 0.0697x +1.11636$$\n",
    " \n",
    "De differentiaalvergelijking van tank B: \n",
    "$$\\frac{d\n",
    "y}{dt} = -0.03y + 0.0291x + -0.03492 $$"
   ]
  },
  {
   "cell_type": "code",
   "execution_count": 57,
   "metadata": {},
   "outputs": [],
   "source": [
    "# importeer benodigde libraries\n",
    "import numpy as np\n",
    "import pandas as pd\n",
    "import matplotlib.pyplot as plt\n",
    "from ipywidgets import interact #  interactieve visualisatie"
   ]
  },
  {
   "cell_type": "code",
   "execution_count": 8,
   "metadata": {},
   "outputs": [],
   "source": [
    "totaltime = 200 # totale  tjdin minuten\n",
    "Czout = 0.2   # zoutconcentratie  in kg/L"
   ]
  },
  {
   "cell_type": "markdown",
   "metadata": {},
   "source": [
    "Er wordt gebruik gemaakt van de 2 differentiaalvergelijkingen hieronder om de Forward Euler en de Heuns methode toe te passen: <br>\n",
    "x (zoutconcentratie in tank A) = 1.2  +(1/100 * (3/100(x +1.2)+y)) - (3/100(x+1.2)) - (4/100(x+1.2)) <br>\n",
    "\n",
    "y (zoutconcentratie in tank B) = (3/100(x+1.2)) - (1/100 * (3/100(x +1.2)+y)) - (2/100(y + (3/100(x +1.2)))"
   ]
  },
  {
   "cell_type": "markdown",
   "metadata": {},
   "source": [
    "## Forward Euler\n",
    "\n",
    "Er wordt eerst Forward Euler method toegepast."
   ]
  },
  {
   "cell_type": "code",
   "execution_count": 19,
   "metadata": {},
   "outputs": [],
   "source": [
    "def forwardeuler(h=1):\n",
    "    xin = 6 *  Czout # Er wordt elke minuut 6L zoutoplossing van 0.2kg/L in  de tank toegevoegd. Dit is gelijk aan 6*0.2 = 1.2 k Zout\n",
    "    t = h * np.array(range(totaltime+1)) # totale tijd in min\n",
    "    x = np.zeros(totaltime+1) # zoutgehalte in kg van tank A\n",
    "    y = np.zeros(totaltime+1) # zoutgehalte in kg van tank B \n",
    "    \n",
    "    # aantal kg zout bij t=0\n",
    "    x[0] = 0\n",
    "    y[0] = 20\n",
    "    \n",
    "    for step in range(totaltime):\n",
    "        # De differentiaal vergelijking wordt opesplits zodat er is meer overzichtelijkheid zit in de code.\n",
    "        xovery = (3/100) * (x[step] + xin) # (3/100(x +1.2)\n",
    "        yoverx = (1/100) * (y[step] + xovery) # 1/100 * ((3/100(x +1.2))+y)\n",
    "        xuit   = (4/100) * (x[step]  + xin)  # 4/100(x+1.2)\n",
    "        yuit   = (2/100) * (y[step] + xovery) # 2/100(y + (3/100(x +1.2)\n",
    "        #Forward Euler method\n",
    "        x[step+1] = x[step] + h * (xin + yoverx - xovery - xuit)\n",
    "        y[step+1] = y[step] + h * (xovery - yoverx - yuit)\n",
    "    return t,x,y\n",
    "\n",
    "    "
   ]
  },
  {
   "cell_type": "code",
   "execution_count": 52,
   "metadata": {},
   "outputs": [
    {
     "data": {
      "application/vnd.jupyter.widget-view+json": {
       "model_id": "1990ce8d410146249115452044755863",
       "version_major": 2,
       "version_minor": 0
      },
      "text/plain": [
       "interactive(children=(IntSlider(value=1, description='h', max=3, min=-1), Output()), _dom_classes=('widget-int…"
      ]
     },
     "metadata": {},
     "output_type": "display_data"
    }
   ],
   "source": [
    "#Plot van de Forward Euler method\n",
    "@interact\n",
    "def plotten(h=1):\n",
    "    t,conc_tank1, conc_tank2 = forwardeuler(h)\n",
    "    # plot the first tank\n",
    "    plt.plot(t, conc_tank1/100, label=\"tank1\")\n",
    "\n",
    "    # plot the second tank\n",
    "    plt.plot(t, conc_tank2/100, label=\"tank2\")\n",
    "\n",
    "    # setting the plot\n",
    "    plt.title(\"Salt concentrations over time\")\n",
    "    plt.xlabel(\"Time (minutes)\")\n",
    "    plt.ylabel(\"salt concentration (kg/L)\")\n",
    "\n",
    "    # show the plot\n",
    "    plt.legend()\n",
    "    plt.show()"
   ]
  },
  {
   "cell_type": "markdown",
   "metadata": {},
   "source": [
    "## Heuns methode met adaptieve stapgrootte\n",
    "Er wordt ook Heuns methode geimplementeerd om  nauwkeurige resultaten te krijgen."
   ]
  },
  {
   "cell_type": "code",
   "execution_count": 47,
   "metadata": {},
   "outputs": [],
   "source": [
    "def heuns(h=1):\n",
    "    xin = 6 *  Czout # Er wordt elke minuut 6L zoutoplossing van 0.2kg/L in  de tank toegevoegd. Dit is gelijk aan 6*0.2 = 1.2 k Zout\n",
    "    x = np.zeros(1) # zoutgehalte in kg van tank A\n",
    "    y = np.zeros(1) # zoutgehalte in kg van tank B\n",
    "    current_time = 0 #minuten\n",
    "    tolerance = 5e5\n",
    "    \n",
    "    x[0] = 0\n",
    "    y[0] = 20\n",
    "    while current_time < totaltime:\n",
    "        xovery = (3/100) * (x + xin)\n",
    "        yoverx = (1/100) * (y + xovery)\n",
    "        xuit   = (4/100) * (x  + xin)\n",
    "        yuit   = (2/100) * (y + xovery)\n",
    "        \n",
    "        # Heun's methode \n",
    "        xe = x + h * (xin + yoverx - xovery - xuit)\n",
    "        ye = y + h * (xovery - yoverx - yuit)\n",
    "        \n",
    "        xy3 = (3/100) * (xe + xin)\n",
    "        yx3 = (1/100) * (ye + xy3)\n",
    "        xu3 = (4/100) * (xe  + xin)\n",
    "        yu3 = (2/100) * (ye + xy3)\n",
    "        \n",
    "        x = x + (h/2) *((xin + yoverx - xovery - xuit) + (xin + yx3 - xy3 -xu3))\n",
    "        y = y + (h/2) *((xovery - yoverx - yuit) + (xy3 - yx3 - yu3))\n",
    "        \n",
    "        current_time += h\n",
    "        LTE = np.linalg.norm(xe - x) + (totaltime*np.linalg.norm(ye - y))\n",
    "        h_new = h * np.sqrt(tolerance/LTE)#h * sqrt(tolerance/LTE)\n",
    "        h = h_new\n",
    "    return x,y\n",
    "    "
   ]
  },
  {
   "cell_type": "markdown",
   "metadata": {},
   "source": [
    "## Backward Euler method\n",
    "\n",
    "er is well geen duidelijk instabliteit te zien in deze probleem , maar er is toch gekozen om de backward euler method te implementeren. <br>\n",
    "Voor deze implementatie  iser gebruikt gemaakt van de uitgewerkte differentialverelijkingen: <br>\n",
    "x'(t) = 0.01𝑦−0.0697𝑥+1.11636<br>\n",
    "y'(t) = −0.03𝑦+0.0291𝑥+−0.03492\n",
    "\n"
   ]
  },
  {
   "cell_type": "code",
   "execution_count": 48,
   "metadata": {},
   "outputs": [],
   "source": [
    " def backwardeuler(h=1):\n",
    "    t = h * np.array(range(totaltime+1)) # totale tijd in min\n",
    "    x = np.zeros(totaltime+1) # zoutgehalte in kg van tank A\n",
    "    y = np.zeros(totaltime+1) # zoutgehalte in kg van tank B\n",
    "    \n",
    "    for step in range(totaltime):\n",
    "        x[step+1] = (x[step] + (0.01*h * y[step+1]) + (1.11636*h))/(1+ (0.0697*h))\n",
    "        y[step+1] = (y[step] + (0.0291*h*x[step+1]) - (0.03492*h))/(1 + (0.03*h))\n",
    "    return t,x,y"
   ]
  },
  {
   "cell_type": "code",
   "execution_count": 56,
   "metadata": {},
   "outputs": [
    {
     "data": {
      "application/vnd.jupyter.widget-view+json": {
       "model_id": "1d24710696e7422d82fb032cd46a8b1a",
       "version_major": 2,
       "version_minor": 0
      },
      "text/plain": [
       "interactive(children=(IntSlider(value=5, description='h', max=15, min=-5), Output()), _dom_classes=('widget-in…"
      ]
     },
     "metadata": {},
     "output_type": "display_data"
    }
   ],
   "source": [
    "#Plot van de Backward Euler method\n",
    "@interact\n",
    "def plotten(h=5):\n",
    "    t,conc_tank1, conc_tank2 = backwardeuler(h)\n",
    "    # plot  tank A\n",
    "    plt.plot(t, conc_tank1/100, label=\"tank1\")\n",
    "\n",
    "    # plot  tank B\n",
    "    plt.plot(t, conc_tank2/100, label=\"tank2\")\n",
    "\n",
    "    plt.title(\"Zoutconcentratie over een bepaalde tijd\")\n",
    "    plt.xlabel(\"Tijd in minuten\")\n",
    "    plt.ylabel(\"Zoutconcentratie in kg/L\")\n",
    "\n",
    "    # show the plot\n",
    "    plt.legend()\n",
    "    plt.show()"
   ]
  }
 ],
 "metadata": {
  "kernelspec": {
   "display_name": "Python 3",
   "language": "python",
   "name": "python3"
  },
  "language_info": {
   "codemirror_mode": {
    "name": "ipython",
    "version": 3
   },
   "file_extension": ".py",
   "mimetype": "text/x-python",
   "name": "python",
   "nbconvert_exporter": "python",
   "pygments_lexer": "ipython3",
   "version": "3.7.3"
  }
 },
 "nbformat": 4,
 "nbformat_minor": 2
}
