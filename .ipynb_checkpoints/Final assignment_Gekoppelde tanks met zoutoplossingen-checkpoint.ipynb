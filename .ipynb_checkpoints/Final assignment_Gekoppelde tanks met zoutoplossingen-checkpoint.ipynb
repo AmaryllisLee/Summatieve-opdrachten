{
 "cells": [
  {
   "cell_type": "markdown",
   "metadata": {},
   "source": [
    "# Gekoppelde tanks met zoutoplossing"
   ]
  },
  {
   "cell_type": "markdown",
   "metadata": {},
   "source": [
    "Twee grote tanks, elk gevuld met 100 Liter vloeistof, zijn met pijpleidingen aan elkaar verbonden. De vloeistof stroomt van tank A in tank B met een snelheid van 3 L/min en van B in A met 1 L/min. Een zoutoplossing met een concentratie van 0.2 kg/L stroomt met een snelheid van 6 L/min tank A in. De oplossing stroomt met een snelheid van 4 L/min tank A uit en verlaat met een snelheid van 2 L/min tank B"
   ]
  },
  {
   "cell_type": "markdown",
   "metadata": {},
   "source": [
    "Er wordt gebruik gemaakt van de 2 differentiaalvergelijkingen hieronder om de Forward Euler en de Heuns methode toe te passen: <br>\n",
    "**zoutconcentratie in tank A  in kg**\n",
    "Om de zoutconcentratie van tank A per minuut is de huidige aantal zout ( x )  + zoutconcentratie van 6L/min +zoutconcentratie van de 1L/min - zoutconcentratie van de 3L/min - zoutconcentratie van de 4L/min. De differentiaalvergelijking luidt als volgt:\n",
    "\n",
    "$$ \\frac{dx}{dt} = 1.2  +(\\frac{1}{100} * (\\frac{3}{100}(x + 1.2))+ y)) - (\\frac{3}{100}(x + 1.2)) - (\\frac{4}{100}(x+1.2)) $$<br>\n",
    "**zoutconcentratie in tank A  in kg**\n",
    "Om de zoutconcentratie van tank B per minuut is de huidige aantal zout ( y ) + de zouttconcentratie van 3L/min   die  binnenstroomt - de zoutconcentratie van de 1L/min - de zoutcontratie van 2L/min\n",
    "$$ \\frac{dy}{dt}  = (\\frac{3}{100}(x+1.2)) - (\\frac{1}{100} * (\\frac{3}{100}(x +1.2)) + y)) - (\\frac{2}{100}(y + (\\frac{3}{100}(x +1.2)))$$"
   ]
  },
  {
   "cell_type": "markdown",
   "metadata": {},
   "source": [
    "De uitgewerkte van de bovenstaande Differentiaal vergelijkingen voor de zoutconcentratie van tank A ( x ) en B (y) zijn: <br>\n",
    "De differentiaal vergelijking voor tank A:\n",
    "$$\\frac{dx}{dt} = 0.01y - 0.0697x +1.11636$$\n",
    " \n",
    "De differentiaalvergelijking van tank B: \n",
    "$$\\frac{d\n",
    "y}{dt} = -0.03y + 0.0291x + -0.03492 $$\n",
    "Deze verggelijkingen wordt ebruikt voor de Backward EulerMethod.\n"
   ]
  },
  {
   "cell_type": "code",
   "execution_count": 1,
   "metadata": {},
   "outputs": [],
   "source": [
    "# importeer benodigde libraries\n",
    "import numpy as np\n",
    "import pandas as pd\n",
    "import matplotlib.pyplot as plt\n",
    "from ipywidgets import interact #  interactieve visualisatie"
   ]
  },
  {
   "cell_type": "markdown",
   "metadata": {},
   "source": [
    "Er wordt vervolgens de volgende constanten gedefnieerd"
   ]
  },
  {
   "cell_type": "code",
   "execution_count": 2,
   "metadata": {},
   "outputs": [],
   "source": [
    "totaltime = 200 # totale  tjdin minuten\n",
    "Czout = 0.2   # zoutconcentratie  in kg/L"
   ]
  },
  {
   "cell_type": "markdown",
   "metadata": {},
   "source": [
    "## Forward Euler\n",
    "\n",
    "Er wordt eerst Forward Euler method toegepast."
   ]
  },
  {
   "cell_type": "code",
   "execution_count": 3,
   "metadata": {},
   "outputs": [],
   "source": [
    "def forwardeuler(h=1):\n",
    "    xin = 6 *  Czout # Er wordt elke minuut 6L zoutoplossing van 0.2kg/L in  de tank toegevoegd. Dit is gelijk aan 6*0.2 = 1.2 k Zout\n",
    "    t = h * np.array(range(totaltime+1)) # totale tijd in min\n",
    "    x = np.zeros(totaltime+1) # zoutgehalte in kg van tank A\n",
    "    y = np.zeros(totaltime+1) # zoutgehalte in kg van tank B \n",
    "    \n",
    "    # aantal kg zout bij t=0\n",
    "    x[0] = 0\n",
    "    y[0] = 20\n",
    "    \n",
    "    for step in range(totaltime):\n",
    "        # De differentiaal vergelijking wordt opesplits zodat er is meer overzichtelijkheid zit in de code.\n",
    "        xovery = (3/100) * (x[step] + xin) # (3/100(x +1.2)\n",
    "        yoverx = (1/100) * (y[step] + xovery) # 1/100 * ((3/100(x +1.2))+y)\n",
    "        xuit   = (4/100) * (x[step]  + xin)  # 4/100(x+1.2)\n",
    "        yuit   = (2/100) * (y[step] + xovery) # 2/100(y + (3/100(x +1.2)\n",
    "        #Forward Euler method\n",
    "        x[step+1] = x[step] + h * (xin + yoverx - xovery - xuit)\n",
    "        y[step+1] = y[step] + h * (xovery - yoverx - yuit)\n",
    "    return t,x,y\n",
    "\n",
    "    "
   ]
  },
  {
   "cell_type": "code",
   "execution_count": 28,
   "metadata": {},
   "outputs": [
    {
     "data": {
      "application/vnd.jupyter.widget-view+json": {
       "model_id": "67e2ff2ac7b240aaaa8250ec39b07a62",
       "version_major": 2,
       "version_minor": 0
      },
      "text/plain": [
       "interactive(children=(IntSlider(value=1, description='h', max=3, min=-1), Output()), _dom_classes=('widget-int…"
      ]
     },
     "metadata": {},
     "output_type": "display_data"
    }
   ],
   "source": [
    "#Plot van de Forward Euler method\n",
    "@interact\n",
    "def plotFEM(h=1):\n",
    "    t,tankA, tankB = forwardeuler(h)\n",
    "    # plot tank A\n",
    "    plt.plot(t, tankA/100, label=\"tank A\")\n",
    "\n",
    "    # plot tank B\n",
    "    plt.plot(t, tankB/100, label=\"tank B\")\n",
    "\n",
    "    # zet de titel en de labels\n",
    "    plt.title('Zoutconcentratie over tijd Forward Euler method')\n",
    "    plt.ylabel(\"Zoutconcentratie in kg/L\")\n",
    "    plt.xlabel(\"Tijd in minuten\")\n",
    "    # show the plot\n",
    "    plt.legend()\n",
    "    plt.show()"
   ]
  },
  {
   "cell_type": "markdown",
   "metadata": {},
   "source": [
    "## Heuns methode met adaptieve stapgrootte\n",
    "Er wordt ook Heuns methode geimplementeerd om  nauwkeurige resultaten te krijgen."
   ]
  },
  {
   "cell_type": "code",
   "execution_count": 13,
   "metadata": {},
   "outputs": [],
   "source": [
    "def heuns(h=1):\n",
    "    xin = 6 *  Czout # Er wordt elke minuut 6L zoutoplossing van 0.2kg/L in  de tank toegevoegd. Dit is gelijk aan 6*0.2 = 1.2 k Zout\n",
    "    x = np.zeros(totaltime+1) # zoutgehalte in kg van ttank A\n",
    "    y = np.zeros(totaltime+1) # zoutgehalte in kg van tank B \n",
    "    t = h * np.array(range(totaltime+1)) # totale tijd in min\n",
    "    \n",
    "    x[0] = 0\n",
    "    y[0] = 20\n",
    "    for step in range(totaltime):\n",
    "        xovery = (3/100) * (x[step] + xin)\n",
    "        yoverx = (1/100) * (y[step] + xovery)\n",
    "        xuit   = (4/100) * (x[step]  + xin)\n",
    "        yuit   = (2/100) * (y[step] + xovery)\n",
    "        \n",
    "        # Heun's methode \n",
    "        xe = x[step] + h * (xin + yoverx - xovery - xuit)\n",
    "        ye = y[step] + h * (xovery - yoverx - yuit)\n",
    "        \n",
    "        xy3 = (3/100) * (xe + xin)\n",
    "        yx3 = (1/100) * (ye + xy3)\n",
    "        xu3 = (4/100) * (xe  + xin)\n",
    "        yu3 = (2/100) * (ye + xy3)\n",
    "        \n",
    "        x[step+1] = x[step] + (h/2) *((xin + yoverx - xovery - xuit) + (xin + yx3 - xy3 -xu3))\n",
    "        y[step+1] = y[step] + (h/2) *((xovery - yoverx - yuit) + (xy3 - yx3 - yu3))\n",
    "    return t,x,y\n",
    "    "
   ]
  },
  {
   "cell_type": "markdown",
   "metadata": {},
   "source": [
    "# Plot "
   ]
  },
  {
   "cell_type": "code",
   "execution_count": 26,
   "metadata": {},
   "outputs": [
    {
     "data": {
      "image/png": "[encoded data removed]",
      "text/plain": [
       "<Figure size 432x288 with 1 Axes>"
      ]
     },
     "metadata": {
      "needs_background": "light"
     },
     "output_type": "display_data"
    }
   ],
   "source": [
    "def plotHeuns(h):\n",
    "    t,ah,bh = heuns(h)\n",
    "    #plot  tank A\n",
    "    plt.plot(t, ah/100, label= 'tank A')\n",
    "    #plot tank B\n",
    "    plt.plot(t, bh/100, label= 'tank B')\n",
    "\n",
    "    # Zet de title en de labels\n",
    "    plt.title('Zoutconcentratie over tijdmet Heun\\'s method')\n",
    "    plt.ylabel(\"Zoutconcentratie in kg/L \")\n",
    "    plt.xlabel(\"Tijd in minuten\")\n",
    "    plt.show()\n",
    "plotHeuns(1)    "
   ]
  },
  {
   "cell_type": "markdown",
   "metadata": {},
   "source": [
    "## Backward Euler method\n",
    "\n",
    "Er is well geen duidelijk instabliteit te zien in deze probleem , maar er is toch gekozen om de backward euler method te implementeren. <br>\n",
    "Voor deze implementatie  iser gebruikt gemaakt van de uitgewerkte differentialverelijkingen: <br>\n",
    "x'(t) = 0.01𝑦−0.0697𝑥+1.11636<br>\n",
    "y'(t) = −0.03𝑦+0.0291𝑥+−0.03492\n",
    "\n"
   ]
  },
  {
   "cell_type": "code",
   "execution_count": 33,
   "metadata": {},
   "outputs": [],
   "source": [
    " def backwardeuler(h=1):\n",
    "    t = h * np.array(range(totaltime+1)) # totale tijd in min\n",
    "    x = np.zeros(totaltime+1) # zoutgehalte in kg van tank A\n",
    "    y = np.zeros(totaltime+1) # zoutgehalte in kg van tank B\n",
    "    \n",
    "    x[0] = 0\n",
    "    y[0] = 20\n",
    "    \n",
    "    for step in range(totaltime):\n",
    "        x[step+1] = (x[step] + (0.01*h * y[step+1]) + (1.11636*h))/(1+ (0.0697*h))\n",
    "        y[step+1] = (y[step] + (0.0291*h*x[step+1]) - (0.03492*h))/(1 + (0.03*h))\n",
    "    return t,x,y"
   ]
  },
  {
   "cell_type": "code",
   "execution_count": 41,
   "metadata": {},
   "outputs": [
    {
     "data": {
      "image/png": "[encoded data removed]",
      "text/plain": [
       "<Figure size 432x288 with 1 Axes>"
      ]
     },
     "metadata": {
      "needs_background": "light"
     },
     "output_type": "display_data"
    }
   ],
   "source": [
    "def plotBEM(h):\n",
    "    t,abe,bbe = backwardeuler(1)\n",
    "    # plot tank A en B in kg/L\n",
    "    plt.plot(t, abe/100, label='Tank A')\n",
    "    plt.plot(t, bbe/100, label= 'Tank B')\n",
    "    \n",
    "    # Zet de title en de labels\n",
    "    plt.title('Zoutconcentratie over tijdmet Backwward Euler method')\n",
    "    plt.ylabel(\"Zoutconcentratie in kg/L \")\n",
    "    plt.xlabel(\"Tijd in minuten\")\n",
    "    plt.show()\n",
    "    \n",
    "plotBEM(1)"
   ]
  },
  {
   "cell_type": "code",
   "execution_count": 35,
   "metadata": {},
   "outputs": [
    {
     "data": {
      "application/vnd.jupyter.widget-view+json": {
       "model_id": "12d7dd9dd54a4995b1d10bdbf6808ebf",
       "version_major": 2,
       "version_minor": 0
      },
      "text/plain": [
       "interactive(children=(IntSlider(value=5, description='h', max=15, min=-5), Output()), _dom_classes=('widget-in…"
      ]
     },
     "metadata": {},
     "output_type": "display_data"
    }
   ],
   "source": [
    "#Plot van de Backward Euler method\n",
    "@interact\n",
    "def plotBEM(h=5):\n",
    "    t,tankA, tankB = backwardeuler(h)\n",
    "    # plot  tank A\n",
    "    plt.plot(t, tankA/100, label=\"tank A\")\n",
    "\n",
    "    # plot  tank B\n",
    "    plt.plot(t, tankB/100, label=\"tank B\")\n",
    "\n",
    "    plt.title(\"Zoutconcentratie over een bepaalde tijd met Backward Euler\")\n",
    "    plt.xlabel(\"Tijd in minuten\")\n",
    "    plt.ylabel(\"Zoutconcentratie in kg/L\")\n",
    "\n",
    "    # show the plot\n",
    "    plt.legend()\n",
    "    plt.show()"
   ]
  },
  {
   "cell_type": "markdown",
   "metadata": {},
   "source": [
    "Er is duidelijk een verschil te zien tussen de grafieken van de expliciete methoden  (Forward Euler method en Heun's method)en de Backward Euler method. Dit komt dat er een klein foutje zit in de uitgewerkte differentiaalvergelijking.\n",
    "De zoutconcentratie zal uiteindelijk relatief gelijk zijn of hebben ze een heel kleine afwijking. Dit is te zien in de expliciete methoden ( Forward Euler method  en Heun's method)"
   ]
  },
  {
   "cell_type": "code",
   "execution_count": null,
   "metadata": {},
   "outputs": [],
   "source": []
  }
 ],
 "metadata": {
  "kernelspec": {
   "display_name": "Python 3",
   "language": "python",
   "name": "python3"
  },
  "language_info": {
   "codemirror_mode": {
    "name": "ipython",
    "version": 3
   },
   "file_extension": ".py",
   "mimetype": "text/x-python",
   "name": "python",
   "nbconvert_exporter": "python",
   "pygments_lexer": "ipython3",
   "version": "3.7.3"
  }
 },
 "nbformat": 4,
 "nbformat_minor": 2
}
