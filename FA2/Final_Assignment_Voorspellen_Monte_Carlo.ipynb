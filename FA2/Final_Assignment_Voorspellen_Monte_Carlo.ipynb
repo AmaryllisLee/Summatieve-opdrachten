{
 "cells": [
  {
   "cell_type": "markdown",
   "metadata": {},
   "source": [
    "### Opdracht \n",
    "We gaan proberen om een voorspelling te doen over de uitslag van een (verkleinde) voetbalpool om te zien wie er waarschijnlijk gaat winnen. We gaan deze voorspelling doen aan de hand van de  Random Number Generator en het principe vanMonte Carlo Simulatie."
   ]
  },
  {
   "cell_type": "markdown",
   "metadata": {},
   "source": [
    "Maak een Monte Carlo Simulatie die meerdere keren (duizenden) de competitie speelt met gebruik van deze tabel van kansen. Hoe vaker je een competitie speelt, hoe nauwkeuriger je voorspelling wordt. Houd bij hoeveel punten elk team scoort in de competitie (3 punten voor winst, 1 punt voor gelijk, 0 voor verlies), en maak een overzicht (ranking) van de teams.\n",
    "\n",
    "<img src = \"tabelMC.PNG\">"
   ]
  },
  {
   "cell_type": "code",
   "execution_count": null,
   "metadata": {},
   "outputs": [],
   "source": [
    "import random\n",
    "import pandas as pd\n",
    "import numpy as np\n",
    "import math "
   ]
  },
  {
   "cell_type": "markdown",
   "metadata": {},
   "source": [
    "Zet bovenstaande tabel om in een dictionary"
   ]
  },
  {
   "cell_type": "code",
   "execution_count": null,
   "metadata": {},
   "outputs": [],
   "source": [
    "clubs = {\n",
    "    \"ajax\":{\"feyenoord\":[65,17,18], \"psv\":[54,21,25], \"fcutrecht\":[74,14,12], \"willemII\":[78,13,9]},\n",
    "    \"feyenoord\": {\"ajax\": [30,21,49], \"psv\":[37,24,39], \"fcutrecht\":[51,22,27], \"willemII\":[60,21,19]},\n",
    "    \"psv\": {\"ajax\": [39,22,39], \"feyenoord\":[54,22,24], \"fcutrecht\":[62,20,18], \"willemII\": [62,22,16]},\n",
    "    \"fcutrecht\": {\"ajax\":[25,14,61], \"feyenoord\": [37,23,40], \"psv\":[29,24,47], \"willemII\": [53,23,25]},\n",
    "    \"willemII\": {\"ajax\": [17, 18, 65], \"feyenoord\":[20,26,54], \"psv\":[23,24,53], \"fcutrecht\":[37,25,38]}\n",
    "}"
   ]
  },
  {
   "cell_type": "markdown",
   "metadata": {},
   "source": [
    "Een functie maken waar we willekeurige getallen genereren op basis van de Linear congruential method.\n",
    "De formule voor de Linear Congruential method luid als volgt: <br>\n",
    "**X n+1 = (a * Xn + c) mod m**\n",
    "waar\n",
    "* a= multiplier\n",
    "* c = increment\n",
    "* Xn als n = 0 => seed (starting value)\n",
    "* m = modulus\n"
   ]
  },
  {
   "cell_type": "code",
   "execution_count": null,
   "metadata": {},
   "outputs": [],
   "source": [
    "class LCR:\n",
    "    \n",
    "    def __init__(self, a, c, m, seed):\n",
    "        self.a = a\n",
    "        self.c = c\n",
    "        self.m = m\n",
    "        self.seed = seed\n",
    "        \n",
    "    def random_number_generator(self):\n",
    "        \"Generating a random number using linear congruential method \"\n",
    "    #     x=[seed] # list containing n random generated numbers \n",
    "        x_next = (self.a * self.seed + self.c) % self.m\n",
    "        self.seed = x_next \n",
    "        return x_next % 100\n",
    "    \n"
   ]
  },
  {
   "cell_type": "code",
   "execution_count": null,
   "metadata": {},
   "outputs": [],
   "source": [
    "rn = LCR(1664525, 1013904223, 2 ** 32,  20200420162000)\n",
    "lst = []\n",
    "for i in range(100):\n",
    "    lst.append(rn.random_number_generator())"
   ]
  },
  {
   "cell_type": "code",
   "execution_count": null,
   "metadata": {},
   "outputs": [],
   "source": [
    "import matplotlib.pyplot as plt"
   ]
  },
  {
   "cell_type": "code",
   "execution_count": null,
   "metadata": {},
   "outputs": [],
   "source": [
    "plt.plot(lst)"
   ]
  },
  {
   "cell_type": "code",
   "execution_count": null,
   "metadata": {},
   "outputs": [],
   "source": [
    "plt.hist(lst)"
   ]
  },
  {
   "cell_type": "markdown",
   "metadata": {},
   "source": [
    "Definieer een spel tussen 2 teams. <br>\n",
    "De scores luidt als volgt:\n",
    "* 3 punten voor winst\n",
    "* 1 punt voor gelijk spel\n",
    "* 0 punten voor verlies"
   ]
  },
  {
   "cell_type": "code",
   "execution_count": null,
   "metadata": {},
   "outputs": [],
   "source": [
    "import random "
   ]
  },
  {
   "cell_type": "code",
   "execution_count": null,
   "metadata": {},
   "outputs": [],
   "source": [
    "def match(team_lst, rn):\n",
    "    \n",
    "    #vb ayax - feyenoord [65, 17, 18]\n",
    "    if  rn < team_lst[2]: # rn < 18 , dan verlies thuisspelende partij\n",
    "        return 0, 3\n",
    "    elif rn < (team_lst[2] + team_lst [1]): # rn zit tussen 18 en  35 (18+17), dan is er een gelijkspel\n",
    "        return 1,1\n",
    "    else: # rn zit tussen 35 en 100 (35 + 65), dan win de thuisspelende partij\n",
    "        return 3, 0\n",
    "    "
   ]
  },
  {
   "cell_type": "code",
   "execution_count": null,
   "metadata": {},
   "outputs": [],
   "source": [
    "# Implement tournament\n",
    "# A tournament is every team plays against each other once away and once at home.\n",
    "def tournament(clubs, rn):\n",
    "    #initialise standing dict to keep track of the points in the tournament\n",
    "    standing = {}\n",
    "    for team in clubs.keys():\n",
    "        standing[team] = 0\n",
    "        \n",
    "    for home_team in clubs.keys(): # for each team , each team will play as hometeam\n",
    "        for away_team in clubs[home_team].keys():# get the list from the home_team against away_team\n",
    "            random_number = rn.random_number_generator()  #  pakt random getal\n",
    "            probablity_list = clubs[home_team][away_team] # pak de lijst van kansen voor de away team van de ene home team\n",
    "            ht_point, at_point = match(probablity_list, random_number) # pakt de punten \n",
    "            \n",
    "            standing[home_team]+= ht_point # voeg aantal punten toe voor thuisspelende partij\n",
    "            standing[away_team]+= at_point # voeg aantal punten toe voor uitspelende partij\n",
    "\n",
    "    return standing\n",
    "            "
   ]
  },
  {
   "cell_type": "code",
   "execution_count": null,
   "metadata": {},
   "outputs": [],
   "source": [
    "s = tournament(clubs, rn)\n",
    "s"
   ]
  },
  {
   "cell_type": "code",
   "execution_count": null,
   "metadata": {},
   "outputs": [],
   "source": [
    "def rankings(standings):\n",
    "    rank_comp   = {k: v for k, v in sorted(standings.items(), key=lambda item: item[1], reverse= True)}# dictionary sorteren\n",
    "    return rank_comp.keys()"
   ]
  },
  {
   "cell_type": "code",
   "execution_count": null,
   "metadata": {},
   "outputs": [],
   "source": [
    "rankings(s)"
   ]
  },
  {
   "cell_type": "markdown",
   "metadata": {},
   "source": [
    "Definieer competities waarbij een team thuis speelt met de rest van de teams (uitploegen)."
   ]
  },
  {
   "cell_type": "markdown",
   "metadata": {},
   "source": [
    "Maak Monte carlo functie die de functie championships n keren draait en de resultaten opslaan in average_ranks"
   ]
  },
  {
   "cell_type": "code",
   "execution_count": null,
   "metadata": {},
   "outputs": [],
   "source": [
    "def MC(clubs, n):\n",
    "    # generate dict of average ranking of the teams\n",
    "    average_ranks = {}\n",
    "    \n",
    "    rn = LCR(1664525, 1013904223, 2 ** 32,  20200420162000)\n",
    "    for team in clubs.keys():\n",
    "        average_ranks[team] = {}\n",
    "        for pos in range(1, 6):\n",
    "            average_ranks[team][pos] = 0\n",
    "    \n",
    "    for i in range(0, n):\n",
    "        standings = tournament(clubs, rn)\n",
    "        sorted_standings = rankings(standings)\n",
    "#         print(standings)\n",
    "        \n",
    "        for pos in range(len(sorted_standings)):\n",
    "            team = list(sorted_standings)[pos]\n",
    "            average_ranks[team][pos+1] +=1\n",
    "            \n",
    "        \n",
    "    return average_ranks"
   ]
  },
  {
   "cell_type": "code",
   "execution_count": null,
   "metadata": {},
   "outputs": [],
   "source": [
    "n = 1000\n",
    "res = MC(clubs,n)\n",
    "res"
   ]
  },
  {
   "cell_type": "markdown",
   "metadata": {},
   "source": [
    " Zet dictionaries om in een dataframe "
   ]
  },
  {
   "cell_type": "code",
   "execution_count": null,
   "metadata": {},
   "outputs": [],
   "source": [
    "df = pd.DataFrame(res)\n",
    "def calculate_probability(x):\n",
    "    return (x / n )*100 \n",
    "df2 = df.apply(np.vectorize(calculate_probability))\n",
    "print(\"Amount of competition that each team has had to get to that place.\")\n",
    "display(df)\n",
    "print(\"Probability of each team getting to that place in a competition.\")\n",
    "display(df2)"
   ]
  },
  {
   "cell_type": "markdown",
   "metadata": {},
   "source": [
    "Elke wedstrijd heeft een plaats in het eindklassement (rangschikking 1e, 2e, 3e, 4e en 5e). De waarschijnlijkheid dat een team een ​​specifieke plaats behaalt in de laatste klassering = het aantal keren dat het team op een specifieke plaats is geclassificeerd / totaal aantal competities in een kampioenschap."
   ]
  },
  {
   "cell_type": "markdown",
   "metadata": {},
   "source": [
    "In onze Monte carlo-functie voeren we n kampioenschappen uit. <br>\n",
    "**x** = het aantal keren dat het team op een specifieke plaats is geclassificeerd<br>\n",
    "**n** = het aantal iteratie van je MC<br>\n",
    "De kans zal zijn **x/n**\n"
   ]
  },
  {
   "cell_type": "markdown",
   "metadata": {},
   "source": [
    "## Verdiepende opdracht"
   ]
  },
  {
   "cell_type": "code",
   "execution_count": null,
   "metadata": {},
   "outputs": [],
   "source": [
    "class Team:\n",
    "  \n",
    "    def __init__(self, average_home_score, average_home_conceded,average_away_score ,average_away_conceded):\n",
    "        self.ahs = average_home_score\n",
    "        self.ahc = average_home_conceded\n",
    "        self.aas = average_away_score\n",
    "        self.aac = average_away_conceded\n",
    "        \n",
    "    def aanvalskracht(self): # 'Attack Strength'\n",
    "            pass\n",
    "    \n",
    "    def verdedigingskracht(self): # 'Defense Strength'\n",
    "        pass\n",
    "    \n",
    "        \n",
    "        \n",
    "        "
   ]
  },
  {
   "cell_type": "code",
   "execution_count": null,
   "metadata": {},
   "outputs": [],
   "source": [
    "class Tournament:\n",
    "    \n",
    "    def __init__(self):\n",
    "        self.teams = []\n",
    "    \n",
    "    def gemiddelde_thuis_scoort(self):\n",
    "        sum_ahs = 0\n",
    "        for team in self.teams:\n",
    "            sum_ahs += team.ahs\n",
    "        \n",
    "        return sum_ahs/len(self.teams)\n",
    "    \n",
    "    def gemiddelde_thuis_toegegeven(self):\n",
    "        sum_ahc = 0\n",
    "        for team in self.teams:\n",
    "            sum_ahc += team.ahc\n",
    "        \n",
    "        return sum_ahc/len(self.teams)\n",
    "    \n",
    "    def gemiddelde_uit_scoort(self):\n",
    "        sum_aas = 0\n",
    "        for team in self.teams:\n",
    "            sum_aas += team.aas\n",
    "        \n",
    "        return sum_aas/len(self.teams)\n",
    "    \n",
    "    def gemiddelde_uit_toegegeven(self):\n",
    "        sum_aac = 0\n",
    "        for team in self.teams:\n",
    "            sum_aac += team.aac\n",
    "        \n",
    "        return sum_aac/len(self.teams)\n",
    "    \n",
    "    def thuis_aanvalskracht(self, thuisploeg): # 'Attack Strength'\n",
    "            return thuisploeg.ahs/ self.gemiddelde_thuis_scoort()\n",
    "    \n",
    "    def uit_aanvalskracht(self, tegenstander): # 'Attack Strength'\n",
    "            return tegenstander.aas/ self.gemiddelde_uit_scoort()\n",
    "    \n",
    "    def thuis_verdedigingskracht(self, thuisploeg): # 'Defense Strength'\n",
    "            return thuisploeg.ahc/ self.gemiddelde_thuis_toegegeven()\n",
    "    \n",
    "    def uit_verdedigingskracht(self, tegenstander): # 'Defense Strength'\n",
    "            return tegenstander.aac/ self.gemiddelde_uit_toegegeven()\n",
    "    \n",
    "    def thuis_doelpunten(self, thuisploeg, tegenstander):\n",
    "        return self.thuis_aanvalskracht(thuisploeg) * self.uit_verdedigingskracht(tegenstander) * self.gemiddelde_thuis_scoort()\n",
    "    \n",
    "    def uit_doelpunten(self, thuisploeg, tegenstander):\n",
    "        return self.uit_aanvalskracht(thuisploeg) * self.thuis_verdedigingskracht(tegenstander) * self.gemiddelde_uit_scoort()\n",
    "        \n",
    "    def poisson_verdeling(self, expected_occurences, discrete_events):\n",
    "        # https://towardsdatascience.com/the-poisson-distribution-and-poisson-process-explained-4e2cb17d459\n",
    "        #TODO verandert var namen naar NL \n",
    "        return math.e**(-expected_occurences) * ((expected_occurences**discrete_events)/math.factorial(discrete_events))\n",
    "    \n",
    "    \n",
    "    def match_outcome(self, rng, thuisploeg, tegenstander):\n",
    "        kans_doelpunten_verdeling = 0\n",
    "        r = 10 # can passed in the function , maybe\n",
    "        for x in range(r+1):\n",
    "            # kiko ta e chens between 0-0, 0-1, 1-0, 1-1\n",
    "            for y in range(r+1):\n",
    "                thuis_kans_doelpunt = self.poisson_verdeling( self.thuis_doelpunten(thuisploeg, tegenstander), x)\n",
    "                uit_kans_doelpunt   = self.poisson_verdeling( self.uit_doelpunten(thuisploeg, tegenstander), y)\n",
    "                \n",
    "                kans_doelpunten_verdeling += thuis_kans_doelpunt * uit_kans_doelpunt\n",
    "                doelpunten_verdeling = \"{} - {}\".format(x, y)\n",
    "                \n",
    "                if rng <= kans_doelpunten_verdeling:\n",
    "                    return x, y\n",
    "                \n",
    "                \n",
    "        \n",
    "                \n",
    "        \n",
    "        \n",
    "        "
   ]
  },
  {
   "cell_type": "code",
   "execution_count": null,
   "metadata": {},
   "outputs": [],
   "source": [
    "t = Tournament()\n",
    "ajax = Team(3.2, 0.9, 3.1, 0.6)\n",
    "feyenoord = Team(2.4, 1.1, 2.2, 0.8)\n",
    "t.teams.append(ajax)\n",
    "t.teams.append(feyenoord)"
   ]
  },
  {
   "cell_type": "code",
   "execution_count": null,
   "metadata": {},
   "outputs": [],
   "source": [
    "t.poisson_verdeling(1.623, 5) *100"
   ]
  },
  {
   "cell_type": "code",
   "execution_count": null,
   "metadata": {},
   "outputs": [],
   "source": [
    "t.match_outcome(random.random(), ajax, feyenoord )"
   ]
  }
 ],
 "metadata": {
  "kernelspec": {
   "display_name": "Python 3",
   "language": "python",
   "name": "python3"
  },
  "language_info": {
   "codemirror_mode": {
    "name": "ipython",
    "version": 3
   },
   "file_extension": ".py",
   "mimetype": "text/x-python",
   "name": "python",
   "nbconvert_exporter": "python",
   "pygments_lexer": "ipython3",
   "version": "3.8.1"
  }
 },
 "nbformat": 4,
 "nbformat_minor": 2
}
