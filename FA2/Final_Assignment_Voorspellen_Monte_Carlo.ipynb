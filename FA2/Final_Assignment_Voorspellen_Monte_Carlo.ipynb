{
 "cells": [
  {
   "cell_type": "markdown",
   "metadata": {},
   "source": [
    "# Voorspellen met Monte carlo"
   ]
  },
  {
   "cell_type": "markdown",
   "metadata": {},
   "source": [
    "### Opdracht \n",
    "We gaan proberen om een voorspelling te doen over de uitslag van een (verkleinde) voetbalpool om te zien wie er waarschijnlijk gaat winnen. We gaan deze voorspelling doen aan de hand van de  Random Number Generator en het principe vanMonte Carlo Simulatie."
   ]
  },
  {
   "cell_type": "markdown",
   "metadata": {},
   "source": [
    "Maak een Monte Carlo Simulatie die meerdere keren (duizenden) de competitie speelt met gebruik van deze tabel van kansen. Hoe vaker je een competitie speelt, hoe nauwkeuriger je voorspelling wordt. Houd bij hoeveel punten elk team scoort in de competitie (3 punten voor winst, 1 punt voor gelijk, 0 voor verlies), en maak een overzicht (ranking) van de teams.\n",
    "\n",
    "<img src = \"tabelMC.PNG\">"
   ]
  },
  {
   "cell_type": "markdown",
   "metadata": {},
   "source": [
    "### Verdiepend (voor een 8 of hoger): \n",
    "In het bovenstaande hebben we ervoor gekozen om geen rekening te houden met doelsaldo's. Om een betere, granuleerder beeld te schetsen van de waarschijnlijk uitkomst van een competitie, zal je ook doelpunten moeten bijhouden. Om dit voor elkaar te krijgen zal je de potjes die teams tegen elkaar spelen moeten uitbreiden: in plaats van alleen maar winst/gelijkspel/verlies te berekenen aan de hand van de kansen, moet je random gaan bepalen hoeveel doelpunten er gescoord zullen worden. Om dit te doen, kan je een Poisson-verdeling gebruiken (Koppelingen naar een externe site.) om te bepalen wat de kans is op een aantal doelpunten voor/tegen in een partij. Gebruik hiervoor de volgende gemiddelden"
   ]
  },
  {
   "cell_type": "markdown",
   "metadata": {},
   "source": [
    "<img src = \"win_verlies_doelpunten_teams.PNG\">"
   ]
  },
  {
   "cell_type": "markdown",
   "metadata": {},
   "source": [
    "Waarbij:\n",
    "\n",
    "    HS staat voor \"average home score\", ofwel gemiddelde aantal doelpunten voor als dit team thuis speelt;\n",
    "    HC staat voor \"average home conceded\", ofwel gemiddelde aantal doelpunten tegen als dit team thuis speelt;\n",
    "    AS staat voor \"average away score\"; \n",
    "    AC staat voor \"average away conceded\".\n",
    "\n",
    "Je kan nu de kansverdeling op doelpunten voor/tegen berekenen door de kracht van de thuisspelende partij en de uitspelende partij te middelen; dat wil zeggen, om een indicatie te krijgen van het gemiddelde aantal doelpunten dat door Ajax thuis tegen PSV wordt gescoord: (HS(Ajax) + AC(PSV)) / 2 --> (3.2 + 1.3) / 2 = 2.25. \n",
    "\n",
    "Bewerk je Monte Carlo Simulatie zodanig dat ook doelsaldo's berekend worden, en maak een nieuwe tabel van de waarschijnlijke positionering van elk team. Zie je een verschuiving in de resultaten?"
   ]
  },
  {
   "cell_type": "code",
   "execution_count": null,
   "metadata": {},
   "outputs": [],
   "source": [
    "import matplotlib.pyplot as plt"
   ]
  },
  {
   "cell_type": "markdown",
   "metadata": {},
   "source": [
    "# Pseudo Random Number Generators (PRNG)\n",
    "\n",
    "Voor deze opdracht wordt er twee pseudo random number generators( prng ) gebruikt:\n",
    "1. Linear Congruential method \n",
    "2. Middle Square Method \n",
    "\n",
    "Voor elke prng is een functie **randdec** geimplementeerd.<br>\n",
    "De functie **randdec()** schaalt de gegenereerde willekeurig getal naar een waarde tussen de 0 en 1. Deze willekeurig getal wordt gebruikt bij het bepalen van de doelpunten voor een thuisploeg en tegenstander."
   ]
  },
  {
   "cell_type": "markdown",
   "metadata": {},
   "source": [
    "## 1. Linear Congruential method"
   ]
  },
  {
   "cell_type": "markdown",
   "metadata": {},
   "source": [
    "Een class maken waar we willekeurige getallen genereren op basis van de Linear congruential algoritme.\n",
    "De formule voor de Linear Congruential method luid als volgt: <br>\n",
    "**X n+1 = (a * Xn + c) mod m**\n",
    "waar\n",
    "* a= multiplier\n",
    "* c = increment\n",
    "* Xn als n = 0 => seed (starting value)\n",
    "* m = modulus\n",
    "\n",
    "De implementatie van de Linear Congruential method is te vinden in het *linear_congruential.py* in de folder *prng*\n"
   ]
  },
  {
   "cell_type": "code",
   "execution_count": null,
   "metadata": {},
   "outputs": [],
   "source": [
    "from prng.linear_congruential import LCR"
   ]
  },
  {
   "cell_type": "markdown",
   "metadata": {},
   "source": [
    "#### Voorbeeld met de Linear congruential method \n",
    "Het is belangrijk om een ​​groot *seed* te geven om een ​​meer willekeurig getal te genereren en korte cycli / herhaling te voorkomen."
   ]
  },
  {
   "cell_type": "code",
   "execution_count": null,
   "metadata": {},
   "outputs": [],
   "source": [
    "rng = LCR(1664525, 1013904223, 2 ** 32,  20200420162000)\n",
    "lst = []\n",
    "for i in range(100):\n",
    "    lst.append(rng.randdec())\n",
    "print(lst[:10])"
   ]
  },
  {
   "cell_type": "code",
   "execution_count": null,
   "metadata": {},
   "outputs": [],
   "source": [
    "plt.plot(lst)\n",
    "plt.title(\"Distribution of the random number LCR\")"
   ]
  },
  {
   "cell_type": "markdown",
   "metadata": {},
   "source": [
    "Door een 100 random number te gegeneren zie we dat er geen herhaling voorkomen.De parameters in het gedefinieerde LCR-object zal worden gebruikt voor ons Monte Carlo-probleem."
   ]
  },
  {
   "cell_type": "markdown",
   "metadata": {},
   "source": [
    "## Middle square \n",
    "\n",
    "Een class maken met functie die willekeurig getallen generenen met de Middle square algoritme.De formule voor de Middle Square method luid als volgt:\n",
    "\n",
    "**Xn+1 = middle n digits ( Xn )^2**"
   ]
  },
  {
   "cell_type": "code",
   "execution_count": null,
   "metadata": {},
   "outputs": [],
   "source": [
    "from prng.middle_square import MiddleSquare"
   ]
  },
  {
   "cell_type": "markdown",
   "metadata": {},
   "source": [
    "#### Voorbeeld van de the Middle Square method\n",
    "Een nadeel van de Middle Square algoritme is, dat er een bepaalde x waar de algoritme alleen maar 0 of een constante waarde genereren.Er is belangrijk dat er een grote seed wordt gekozen om zoveel mogelijk willekeurige getallen te genereren voordat de algoritme 0 / constante waarde bereikt."
   ]
  },
  {
   "cell_type": "code",
   "execution_count": null,
   "metadata": {},
   "outputs": [],
   "source": [
    "mds = MiddleSquare(2**32)"
   ]
  },
  {
   "cell_type": "code",
   "execution_count": null,
   "metadata": {},
   "outputs": [],
   "source": [
    "list_random_number = []\n",
    "for _ in range(1000):\n",
    "    list_random_number.append(mds.randdec())\n",
    "print(list_random_number[0:10])"
   ]
  },
  {
   "cell_type": "code",
   "execution_count": null,
   "metadata": {},
   "outputs": [],
   "source": [
    "plt.plot(list_random_number)\n",
    "plt.title(\"Distribution of the random numbers using the Middle Square Algorithm\")"
   ]
  },
  {
   "cell_type": "markdown",
   "metadata": {},
   "source": [
    "Uit de bovenstaande grafiek is er te zien dat voor 1000 getallen bereikt de algoritme niet 0 of een constante waarde.\n",
    "De parameters in het gedefinieerde MiddleSquare-object zal worden gebruikt voor ons Monte Carlo-probleem."
   ]
  },
  {
   "cell_type": "markdown",
   "metadata": {},
   "source": [
    "## Resultaten "
   ]
  },
  {
   "cell_type": "code",
   "execution_count": null,
   "metadata": {},
   "outputs": [],
   "source": [
    "from voetbal.teams import Team\n",
    "from voetbal.tournament import Tournament\n",
    "from monte_carlo import MC"
   ]
  },
  {
   "cell_type": "markdown",
   "metadata": {},
   "source": [
    "Elke wedstrijd heeft een plaats in het eindklassement (rangschikking 1e, 2e, 3e, 4e en 5e). De waarschijnlijkheid dat een team een ​​specifieke plaats behaalt in de laatste klassering = het aantal keren dat het team op een specifieke plaats is geclassificeerd / totaal aantal competities in een kampioenschap."
   ]
  },
  {
   "cell_type": "markdown",
   "metadata": {},
   "source": [
    "In onze Monte carlo-functie voeren we n kampioenschappen uit. <br>\n",
    "**x** = het aantal keren dat het team op een specifieke plaats is geclassificeerd<br>\n",
    "**n** = het aantal iteratie van je MC<br>\n",
    "De kans zal zijn **x/n**\n"
   ]
  },
  {
   "cell_type": "code",
   "execution_count": null,
   "metadata": {},
   "outputs": [],
   "source": [
    "rng_lcr = LCR(1664525, 1013904223, 2 ** 32,  20200420162000)"
   ]
  },
  {
   "cell_type": "code",
   "execution_count": null,
   "metadata": {},
   "outputs": [],
   "source": [
    "n = 1000\n",
    "MC(n, rng_lcr, 'probability list')"
   ]
  },
  {
   "cell_type": "code",
   "execution_count": null,
   "metadata": {},
   "outputs": [],
   "source": [
    "MC(n, rng_lcr,'verdiepend')"
   ]
  },
  {
   "cell_type": "code",
   "execution_count": null,
   "metadata": {},
   "outputs": [],
   "source": [
    "rng_mds = MiddleSquare(2**32)"
   ]
  },
  {
   "cell_type": "code",
   "execution_count": null,
   "metadata": {},
   "outputs": [],
   "source": [
    "MC(n, rng_mds, 'probability list')"
   ]
  },
  {
   "cell_type": "code",
   "execution_count": null,
   "metadata": {},
   "outputs": [],
   "source": [
    "MC(n, rng_mds, 'verdiepend')"
   ]
  },
  {
   "cell_type": "markdown",
   "metadata": {},
   "source": [
    "Er is duidelik een verschuiving te zien tussen de resultaten met en zonder Poisson distribution en de twee PRNG.\n",
    "De resultaten zonder de Poisson distribution is meer verzadigd.De resultaten met de Poisson distribution is er duidelijk te zien welke team de grootste kans heeft voor een bepaalde ranking."
   ]
  },
  {
   "cell_type": "code",
   "execution_count": null,
   "metadata": {},
   "outputs": [],
   "source": []
  }
 ],
 "metadata": {
  "kernelspec": {
   "display_name": "Python 3",
   "language": "python",
   "name": "python3"
  },
  "language_info": {
   "codemirror_mode": {
    "name": "ipython",
    "version": 3
   },
   "file_extension": ".py",
   "mimetype": "text/x-python",
   "name": "python",
   "nbconvert_exporter": "python",
   "pygments_lexer": "ipython3",
   "version": "3.8.1"
  }
 },
 "nbformat": 4,
 "nbformat_minor": 2
}
